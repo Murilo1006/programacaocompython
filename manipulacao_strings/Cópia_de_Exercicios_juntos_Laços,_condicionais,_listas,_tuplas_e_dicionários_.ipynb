{
  "nbformat": 4,
  "nbformat_minor": 0,
  "metadata": {
    "colab": {
      "provenance": []
    },
    "kernelspec": {
      "name": "python3",
      "display_name": "Python 3"
    },
    "language_info": {
      "name": "python"
    }
  },
  "cells": [
    {
      "cell_type": "markdown",
      "source": [
        "# **MANIPULAÇÃO DE STRINGS**"
      ],
      "metadata": {
        "id": "IQA9hGTquXQq"
      }
    },
    {
      "cell_type": "markdown",
      "source": [
        "## Outros métodos para se trabalhar com Stings\n",
        "https://www.w3schools.com/python/python_strings_methods.asp"
      ],
      "metadata": {
        "id": "Sd25nC8ctm6I"
      }
    },
    {
      "cell_type": "code",
      "source": [
        "frase = \"hello world\"\n",
        "frase = frase.replace(\"hello\", \"Olá,\")\n",
        "print(frase)\n",
        "\n",
        "frase2 = frase.replace(\"world\", \"mundo\")\n",
        "print(frase2)"
      ],
      "metadata": {
        "colab": {
          "base_uri": "https://localhost:8080/"
        },
        "id": "18kAo0rYw3rt",
        "outputId": "e985c4bf-93fb-47cd-dad3-cd3363c105e2"
      },
      "execution_count": null,
      "outputs": [
        {
          "output_type": "stream",
          "name": "stdout",
          "text": [
            "Olá, world\n",
            "Olá, mundo\n"
          ]
        }
      ]
    },
    {
      "cell_type": "markdown",
      "source": [
        "# EXERCÍCIOS"
      ],
      "metadata": {
        "id": "alyrqUJst2B7"
      }
    },
    {
      "cell_type": "code",
      "source": [
        "# 1 - Use o método len para imprimir o comprimento da string.\n",
        "\n",
        "x = \"Hello World\"\n",
        "print(len(x))"
      ],
      "metadata": {
        "id": "VaXue1uMuGtE",
        "colab": {
          "base_uri": "https://localhost:8080/"
        },
        "outputId": "c6079718-749b-4125-d89d-bca2dc921d65"
      },
      "execution_count": null,
      "outputs": [
        {
          "output_type": "stream",
          "name": "stdout",
          "text": [
            "11\n"
          ]
        }
      ]
    },
    {
      "cell_type": "code",
      "source": [
        "# 2 - Obtenha o primeiro caractere da string txt.\n",
        "\n",
        "txt = \"Hello World\"\n",
        "print(txt[0])"
      ],
      "metadata": {
        "id": "hE23s19XuT9V",
        "colab": {
          "base_uri": "https://localhost:8080/"
        },
        "outputId": "8b523957-5fd6-4f56-92ec-af6bb935c761"
      },
      "execution_count": null,
      "outputs": [
        {
          "output_type": "stream",
          "name": "stdout",
          "text": [
            "H\n"
          ]
        }
      ]
    },
    {
      "cell_type": "code",
      "source": [
        "# 3 - Obtenha os caracteres do índice 2 ao índice 4 ( llo).\n",
        "\n",
        "txt = \"Hello World\"\n",
        "txt[2:5]"
      ],
      "metadata": {
        "id": "u5G2G2Icuh_5",
        "colab": {
          "base_uri": "https://localhost:8080/",
          "height": 35
        },
        "outputId": "820a4344-d38c-4e28-fb5e-02e47afaaa5b"
      },
      "execution_count": null,
      "outputs": [
        {
          "output_type": "execute_result",
          "data": {
            "text/plain": [
              "'llo'"
            ],
            "application/vnd.google.colaboratory.intrinsic+json": {
              "type": "string"
            }
          },
          "metadata": {},
          "execution_count": 121
        }
      ]
    },
    {
      "cell_type": "code",
      "source": [
        "# 4 - Converta o valor de txt para maiúsculas.\n",
        "\n",
        "txt = \"Hello World\"\n",
        "txt.upper()"
      ],
      "metadata": {
        "id": "i_QREABlusUY",
        "colab": {
          "base_uri": "https://localhost:8080/",
          "height": 35
        },
        "outputId": "0b182ca7-bd19-442d-f494-1287872ea56e"
      },
      "execution_count": null,
      "outputs": [
        {
          "output_type": "execute_result",
          "data": {
            "text/plain": [
              "'HELLO WORLD'"
            ],
            "application/vnd.google.colaboratory.intrinsic+json": {
              "type": "string"
            }
          },
          "metadata": {},
          "execution_count": 122
        }
      ]
    },
    {
      "cell_type": "code",
      "source": [
        "# 5 - Conte quantas vezes aparece a palavra \"de\" na string abaixo\n",
        "\n",
        "txt = \"Eu gosto de vijar, tomar vinho, de estudar estudar programação, de estudar Pyhon\"\n",
        "txt.count('de')"
      ],
      "metadata": {
        "id": "nVC1pSwq2PDH",
        "colab": {
          "base_uri": "https://localhost:8080/"
        },
        "outputId": "056fe537-6fff-4fe9-80b7-111f59c0ce4f"
      },
      "execution_count": null,
      "outputs": [
        {
          "output_type": "execute_result",
          "data": {
            "text/plain": [
              "3"
            ]
          },
          "metadata": {},
          "execution_count": 123
        }
      ]
    },
    {
      "cell_type": "code",
      "source": [
        "# 6 - Separe a frase abaixo toda vez que encontrar um vírgula\n",
        "\n",
        "txt = \"Eu gosto de vijar, tomar vinho, de estudar estudar programação, de estudar Pyhon\"\n",
        "txt.split(\",\")"
      ],
      "metadata": {
        "id": "tkUBrdQH3OUR",
        "colab": {
          "base_uri": "https://localhost:8080/"
        },
        "outputId": "febb2480-67df-4d81-f753-915d4909f0ad"
      },
      "execution_count": null,
      "outputs": [
        {
          "output_type": "execute_result",
          "data": {
            "text/plain": [
              "['Eu gosto de vijar',\n",
              " ' tomar vinho',\n",
              " ' de estudar estudar programação',\n",
              " ' de estudar Pyhon']"
            ]
          },
          "metadata": {},
          "execution_count": 124
        }
      ]
    },
    {
      "cell_type": "code",
      "source": [
        "#7 - Peça ao usuário uma frase e substitua todas as ocorrências de espaço por “#”.\n",
        "\n",
        "txt = \"Eu gosto de vijar, tomar vinho, de estudar estudar programação, de estudar Pyhon\"\n",
        "txt.replace(\" \", \"#\")"
      ],
      "metadata": {
        "id": "WZn4Jk5OtYaV",
        "colab": {
          "base_uri": "https://localhost:8080/",
          "height": 35
        },
        "outputId": "8dc53d42-e7e3-47cc-f5c2-09cbc52e7fd3"
      },
      "execution_count": null,
      "outputs": [
        {
          "output_type": "execute_result",
          "data": {
            "text/plain": [
              "'Eu#gosto#de#vijar,#tomar#vinho,#de#estudar#estudar#programação,#de#estudar#Pyhon'"
            ],
            "application/vnd.google.colaboratory.intrinsic+json": {
              "type": "string"
            }
          },
          "metadata": {},
          "execution_count": 125
        }
      ]
    },
    {
      "cell_type": "code",
      "source": [
        "# 8 - Faça um programa que retorne True se duas strings lidas do teclado são palíndromas mútuas, ou seja, se uma é igual à outra quando lida de traz para frente ou False, se não forem.\n",
        "# Por exemplo: amor e roma\n",
        "\n",
        "frase1 = input(\"Digite uma palavra: \")\n",
        "frase2 = input(\"Digite uma palavra: \")\n",
        "if frase1 == frase2[::-1]:\n",
        "    print(\"True\")\n",
        "else:\n",
        "    print(\"False\")"
      ],
      "metadata": {
        "id": "xMzTvD-StfcV",
        "colab": {
          "base_uri": "https://localhost:8080/"
        },
        "outputId": "7f63a6fe-179d-4e92-be18-807afac63bd1"
      },
      "execution_count": null,
      "outputs": [
        {
          "output_type": "stream",
          "name": "stdout",
          "text": [
            "Digite uma palavra: ARARA\n",
            "Digite uma palavra: ARARA\n",
            "True\n"
          ]
        }
      ]
    },
    {
      "cell_type": "code",
      "source": [
        "# 9- Faça um programa que leia o nome do usuário e mostre o nome de traz para frente, utilizando somente letras maiúsculas.\n",
        "\n",
        "nome = input(\"Digite seu nome: \")\n",
        "nome = nome.upper()\n",
        "nome = nome[::-1]\n",
        "print(nome)"
      ],
      "metadata": {
        "id": "Q-VT1F6StorW",
        "colab": {
          "base_uri": "https://localhost:8080/"
        },
        "outputId": "69ed463f-776f-4628-dd5b-15ef25656496"
      },
      "execution_count": null,
      "outputs": [
        {
          "output_type": "stream",
          "name": "stdout",
          "text": [
            "Digite seu nome: MURILO\n",
            "OLIRUM\n"
          ]
        }
      ]
    },
    {
      "cell_type": "markdown",
      "source": [
        "# **PA LISTAS, TUPLAS E DICIONARIOS**"
      ],
      "metadata": {
        "id": "Jh96_5hAuPER"
      }
    },
    {
      "cell_type": "markdown",
      "source": [
        "# **Exercícios**\n",
        "##Exercício 1: Manipulação de Listas\n",
        "\n",
        "- Defina uma lista com 5 nomes de cidades.\n",
        "- Adicione uma nova cidade ao final da lista.\n",
        "- Remova a segunda cidade da lista.\n",
        "- Imprima a lista resultante."
      ],
      "metadata": {
        "id": "Y_YJtHALyD7j"
      }
    },
    {
      "cell_type": "code",
      "source": [
        "cidades = [\"São Paulo\", \"Ribeirão Pires\", \"Mauá\", \"Santo André\", \"Rio Grande da Serra\"]\n",
        "print(cidades)"
      ],
      "metadata": {
        "id": "F7PpZmzsyJkj",
        "colab": {
          "base_uri": "https://localhost:8080/"
        },
        "outputId": "c8230e47-73ff-4a3a-ba95-3f8749923d3d"
      },
      "execution_count": null,
      "outputs": [
        {
          "output_type": "stream",
          "name": "stdout",
          "text": [
            "['São Paulo', 'Ribeirão Pires', 'Mauá', 'Santo André', 'Rio Grande da Serra']\n"
          ]
        }
      ]
    },
    {
      "cell_type": "code",
      "source": [
        "cidades.append(\"Rio de Janeiro\")\n",
        "print(cidades)  # Saída: [\"São Paulo\", \"Ribeirão Pires\", \"Mauá\", \"Santo André\", \"Rio Grande da Serra\", \"Rio de Janeiro\"]"
      ],
      "metadata": {
        "colab": {
          "base_uri": "https://localhost:8080/"
        },
        "id": "1JQIifBvbAWT",
        "outputId": "e380fd1b-f2a8-4520-c7ae-2cfc03785764"
      },
      "execution_count": null,
      "outputs": [
        {
          "output_type": "stream",
          "name": "stdout",
          "text": [
            "['São Paulo', 'Ribeirão Pires', 'Mauá', 'Santo André', 'Rio Grande da Serra', 'Rio de Janeiro']\n"
          ]
        }
      ]
    },
    {
      "cell_type": "code",
      "source": [
        "cidades.remove(\"Ribeirão Pires\")\n",
        "print(cidades)  # Saída: [\"São Paulo\", \"Mauá\", \"Santo André\", \"Rio Grande da Serra\", \"Rio de Janeiro\"]"
      ],
      "metadata": {
        "colab": {
          "base_uri": "https://localhost:8080/"
        },
        "id": "9BxFzDMxbLqc",
        "outputId": "4bb24f22-5311-4945-c4ba-bf80ae566c8b"
      },
      "execution_count": null,
      "outputs": [
        {
          "output_type": "stream",
          "name": "stdout",
          "text": [
            "['São Paulo', 'Mauá', 'Santo André', 'Rio Grande da Serra', 'Rio de Janeiro']\n"
          ]
        }
      ]
    },
    {
      "cell_type": "markdown",
      "source": [
        "##Exercício 2: Operações com Tuplas\n",
        "\n",
        "- Defina uma tupla com 4 cores.\n",
        "- Crie uma nova tupla que seja a concatenação da tupla original com outra contendo mais 2 cores.\n",
        "- Imprima a nova tupla."
      ],
      "metadata": {
        "id": "chLTYNQGyUrj"
      }
    },
    {
      "cell_type": "code",
      "source": [
        "cores = (\"Azul\", \"Amarelo\", \"Vermelho\", \"Verde\")\n",
        "print(cores)"
      ],
      "metadata": {
        "id": "TdRLrGUoyaHa",
        "colab": {
          "base_uri": "https://localhost:8080/"
        },
        "outputId": "37251654-c07c-44f8-dba4-08aaf1bb3976"
      },
      "execution_count": null,
      "outputs": [
        {
          "output_type": "stream",
          "name": "stdout",
          "text": [
            "('Azul', 'Amarelo', 'Vermelho', 'Verde')\n"
          ]
        }
      ]
    },
    {
      "cell_type": "code",
      "source": [
        "novas_cores = cores + (\"Preto\", \"Roxo\")"
      ],
      "metadata": {
        "id": "3uvLe16Wgn87"
      },
      "execution_count": null,
      "outputs": []
    },
    {
      "cell_type": "code",
      "source": [
        "novas_cores"
      ],
      "metadata": {
        "colab": {
          "base_uri": "https://localhost:8080/"
        },
        "id": "oEC_-bvCiVeg",
        "outputId": "ea0a4f4c-c982-4605-c504-c9f5fe279b51"
      },
      "execution_count": null,
      "outputs": [
        {
          "output_type": "execute_result",
          "data": {
            "text/plain": [
              "('Azul', 'Amarelo', 'Vermelho', 'Verde', 'Preto', 'Roxo')"
            ]
          },
          "metadata": {},
          "execution_count": 8
        }
      ]
    },
    {
      "cell_type": "markdown",
      "source": [
        "##Exercício 3: Dicionários Simples\n",
        "\n",
        "Crie um dicionário para representar um aluno, contendo \"nome\", \"idade\" e \"curso\".\n",
        "- Atualize a idade do aluno.\n",
        "- Adicione uma nova chave \"nota\" com um valor.\n",
        "- Imprima o dicionário atualizado"
      ],
      "metadata": {
        "id": "5eLz2Zvvygej"
      }
    },
    {
      "cell_type": "code",
      "source": [
        "aluno = {\n",
        "\n",
        "    \"nome\": \"Murilo\",\n",
        "    \"idade\": 15,\n",
        "    \"curso\": \"Técnico em Infómatica para Internet\",\n",
        "}"
      ],
      "metadata": {
        "id": "g3w1JYkIy1fy"
      },
      "execution_count": null,
      "outputs": []
    },
    {
      "cell_type": "code",
      "source": [
        "aluno"
      ],
      "metadata": {
        "colab": {
          "base_uri": "https://localhost:8080/"
        },
        "id": "AOG9w5oijNnj",
        "outputId": "4c105673-9d27-4d4b-efdb-04892c28c2a7"
      },
      "execution_count": null,
      "outputs": [
        {
          "output_type": "execute_result",
          "data": {
            "text/plain": [
              "{'nome': 'Murilo', 'idade': 15, 'curso': 'Técnico em Infómatica para Internet'}"
            ]
          },
          "metadata": {},
          "execution_count": 95
        }
      ]
    },
    {
      "cell_type": "code",
      "source": [
        "print(estudante[\"idade\"])  # Saída: 15"
      ],
      "metadata": {
        "colab": {
          "base_uri": "https://localhost:8080/"
        },
        "id": "pAvtHrDakNX6",
        "outputId": "75877bc6-043a-455e-cd65-3884dc2471ef"
      },
      "execution_count": null,
      "outputs": [
        {
          "output_type": "stream",
          "name": "stdout",
          "text": [
            "16\n"
          ]
        }
      ]
    },
    {
      "cell_type": "code",
      "source": [
        "aluno[\"idade\"] = 16\n",
        "print(aluno)  # Saída: {\"nome\": \"Murilo\", \"idade\": 16, \"curso\": \"Técnico em Infómatica para Internet\"}"
      ],
      "metadata": {
        "colab": {
          "base_uri": "https://localhost:8080/"
        },
        "id": "R8a-nQ2HlBud",
        "outputId": "3d040c3d-8f1e-4520-ab66-e88a4ff47784"
      },
      "execution_count": null,
      "outputs": [
        {
          "output_type": "stream",
          "name": "stdout",
          "text": [
            "{'nome': 'Murilo', 'idade': 16, 'curso': 'Técnico em Infómatica para Internet'}\n"
          ]
        }
      ]
    },
    {
      "cell_type": "code",
      "source": [
        "aluno[\"nota\"] = \"10\"\n",
        "print(aluno)  # Saída: {\"nome\": \"Murilo\", \"idade\": 16, \"curso\": \"Técnico em Infómatica para Internet\", \"nota\": \"10\"}"
      ],
      "metadata": {
        "colab": {
          "base_uri": "https://localhost:8080/"
        },
        "id": "8l4iWYwDlwQc",
        "outputId": "e37136d2-8115-4001-8a28-119d7affa51a"
      },
      "execution_count": null,
      "outputs": [
        {
          "output_type": "stream",
          "name": "stdout",
          "text": [
            "{'nome': 'Murilo', 'idade': 16, 'curso': 'Técnico em Infómatica para Internet', 'cidade': 'São Paulo', 'nota': '10'}\n"
          ]
        }
      ]
    },
    {
      "cell_type": "code",
      "source": [
        "aluno"
      ],
      "metadata": {
        "colab": {
          "base_uri": "https://localhost:8080/"
        },
        "id": "bDDfaHbwn3Be",
        "outputId": "da7db7b6-b551-402e-b572-9668a1a82add"
      },
      "execution_count": null,
      "outputs": [
        {
          "output_type": "execute_result",
          "data": {
            "text/plain": [
              "{'nome': 'Murilo',\n",
              " 'idade': 16,\n",
              " 'curso': 'Técnico em Infómatica para Internet',\n",
              " 'cidade': 'São Paulo',\n",
              " 'nota': '10'}"
            ]
          },
          "metadata": {},
          "execution_count": 100
        }
      ]
    },
    {
      "cell_type": "markdown",
      "source": [
        "##Exercício 4: Listas e Dicionários\n",
        "\n",
        "- Crie uma lista de dicionários, onde cada dicionário representa um produto com as chaves \"nome\" e \"preço\".\n",
        "- Adicione um novo produto à lista.\n",
        "- Atualize o preço do primeiro produto na lista.\n",
        "- Imprima a lista resultante."
      ],
      "metadata": {
        "id": "6IhHbYV3y7ES"
      }
    },
    {
      "cell_type": "code",
      "source": [
        "dicionario = [{\"nome\": \"Pizza\", \"preço\": 50}]\n",
        "print(dicionario)\n",
        "\n",
        "dicionario.append({\"nome\": \"Hambúguer\", \"preço\": 20})\n",
        "\n",
        "dicionario[0][\"preço\"] = 45\n",
        "print(dicionario)"
      ],
      "metadata": {
        "id": "OgnFiZ2qzGAD",
        "colab": {
          "base_uri": "https://localhost:8080/"
        },
        "outputId": "5b4d1273-6b08-4eb1-c257-d626482fe5fd"
      },
      "execution_count": null,
      "outputs": [
        {
          "output_type": "stream",
          "name": "stdout",
          "text": [
            "[{'nome': 'Pizza', 'preço': 50}]\n",
            "[{'nome': 'Pizza', 'preço': 45}, {'nome': 'Hambúguer', 'preço': 20}]\n"
          ]
        }
      ]
    },
    {
      "cell_type": "markdown",
      "source": [
        "##Exercício 5: Analisando uma Lista de Tuplas\n",
        "\n",
        "- Crie uma lista de tuplas, onde cada tupla contém um par (nome, idade).\n",
        "- Encontre e imprima o nome da pessoa mais velha.\n",
        "- Encontre e imprima a idade média das pessoas."
      ],
      "metadata": {
        "id": "KtVatd9TzJRC"
      }
    },
    {
      "cell_type": "code",
      "source": [
        "pessoas = [\n",
        "    (\"Nome:\", \"Murilo\", \"Idade:\", 15),\n",
        "    (\"Nome:\", \"Vinicius\", \"Idade\", 25)\n",
        "]\n",
        "\n",
        "velha = pessoas[1]\n",
        "for pessoa in pessoas:\n",
        "  if pessoa[3] > velha[3]:\n",
        "    velha = pessoa\n",
        "\n",
        "print(velha)\n",
        "soma = 0\n",
        "for pessoa in pessoas:\n",
        "  soma += pessoa[3]\n",
        "  media = soma/len(pessoas)\n",
        "print(soma/len(pessoas))"
      ],
      "metadata": {
        "id": "cpCpjk0L1axl",
        "colab": {
          "base_uri": "https://localhost:8080/"
        },
        "outputId": "b239bafb-6ce6-4088-b14a-9a93863cc9a2"
      },
      "execution_count": null,
      "outputs": [
        {
          "output_type": "stream",
          "name": "stdout",
          "text": [
            "('Nome:', 'Vinicius', 'Idade', 25)\n",
            "20.0\n"
          ]
        }
      ]
    },
    {
      "cell_type": "markdown",
      "source": [
        "## 6. Soma dos Elementos da Lista\n",
        "Dada uma lista de números, calcule a soma de todos os elementos."
      ],
      "metadata": {
        "id": "mc7OBtsfWVJb"
      }
    },
    {
      "cell_type": "code",
      "source": [
        "# Seu código aqui...\n",
        "lista = [1, 2, 3, 4, 5]\n",
        "sum(lista)"
      ],
      "metadata": {
        "id": "XbRIVArgWd6Z",
        "colab": {
          "base_uri": "https://localhost:8080/"
        },
        "outputId": "b46f06a5-7fe6-4233-cc12-a90b7d90cd36"
      },
      "execution_count": null,
      "outputs": [
        {
          "output_type": "execute_result",
          "data": {
            "text/plain": [
              "15"
            ]
          },
          "metadata": {},
          "execution_count": 108
        }
      ]
    },
    {
      "cell_type": "markdown",
      "source": [
        "## 7. Produto dos elementos da lista\n",
        "Dada uma lista de números, calcule o produto de todos os elementos."
      ],
      "metadata": {
        "id": "wX_wIB3XWhNP"
      }
    },
    {
      "cell_type": "code",
      "source": [
        "# Seu código aqui...\n",
        "lista2 = [1, 2, 3, 4, 5]\n",
        "reduce(multiplicar, lista2)"
      ],
      "metadata": {
        "id": "1n8OWu0EWlf8",
        "colab": {
          "base_uri": "https://localhost:8080/"
        },
        "outputId": "74ca62e5-4216-497f-dee0-f35ca9eb19c4"
      },
      "execution_count": null,
      "outputs": [
        {
          "output_type": "execute_result",
          "data": {
            "text/plain": [
              "120"
            ]
          },
          "metadata": {},
          "execution_count": 29
        }
      ]
    },
    {
      "cell_type": "markdown",
      "source": [
        "## 8. Encontre o menor elemento\n",
        "Dada uma lista de números, encontre o menor elemento."
      ],
      "metadata": {
        "id": "17bTLQ4iWuwG"
      }
    },
    {
      "cell_type": "code",
      "source": [
        "# Seu código aqui...\n",
        "lista3 = [1, 2, 3, 4, 5]\n",
        "min(lista3)"
      ],
      "metadata": {
        "id": "WQ5HLGluWwqm",
        "colab": {
          "base_uri": "https://localhost:8080/"
        },
        "outputId": "8e01340a-62ed-4183-8760-9c219738fbb7"
      },
      "execution_count": null,
      "outputs": [
        {
          "output_type": "execute_result",
          "data": {
            "text/plain": [
              "1"
            ]
          },
          "metadata": {},
          "execution_count": 12
        }
      ]
    },
    {
      "cell_type": "markdown",
      "source": [
        "## 9. Encontre o maior elemento\n",
        "Dada uma lista de números, encontre o maior elemento."
      ],
      "metadata": {
        "id": "lI14sjaLWy9R"
      }
    },
    {
      "cell_type": "code",
      "source": [
        "# Seu código aqui...\n",
        "lista4 = [1, 2, 3, 4, 5]\n",
        "max(lista4)"
      ],
      "metadata": {
        "id": "b4Aoe3E6W4op",
        "colab": {
          "base_uri": "https://localhost:8080/"
        },
        "outputId": "257de236-bb08-4a8c-8ab2-ee5069a13188"
      },
      "execution_count": null,
      "outputs": [
        {
          "output_type": "execute_result",
          "data": {
            "text/plain": [
              "5"
            ]
          },
          "metadata": {},
          "execution_count": 13
        }
      ]
    },
    {
      "cell_type": "markdown",
      "source": [
        "## 10. Contar Ocorrências de um Elemento\n",
        "Dada uma lista de números e um número alvo, conte quantas vezes o alvo aparece na lista."
      ],
      "metadata": {
        "id": "Le_6N2kJXDIm"
      }
    },
    {
      "cell_type": "code",
      "source": [
        "# Seu código aqui...\n",
        "lista5 = [1, 2, 3, 4, 3, 2, 1]\n",
        "alvo = 3\n",
        "contagem = lista5.count(alvo)\n",
        "print(f\"O número {alvo} aparece {contagem} vezes na lista.\")"
      ],
      "metadata": {
        "id": "QGeVwhM5XF4I",
        "colab": {
          "base_uri": "https://localhost:8080/"
        },
        "outputId": "6d7238ce-b585-4ef3-8ba0-d427fcac5b1b"
      },
      "execution_count": null,
      "outputs": [
        {
          "output_type": "stream",
          "name": "stdout",
          "text": [
            "O número 3 aparece 2 vezes na lista.\n"
          ]
        }
      ]
    },
    {
      "cell_type": "markdown",
      "source": [
        "## 11. Remover duplicatas\n",
        "Dada uma lista de números, crie uma nova lista sem elementos duplicados."
      ],
      "metadata": {
        "id": "O0jzD6HKXLwd"
      }
    },
    {
      "cell_type": "code",
      "source": [
        "# Seu código aqui...\n",
        "lista6 = [1, 2, 2, 3, 4, 4, 5]\n",
        "set(lista6)"
      ],
      "metadata": {
        "id": "FU8mMo0CXNmV",
        "colab": {
          "base_uri": "https://localhost:8080/"
        },
        "outputId": "7f586276-8691-4800-fbf9-115bd328175e"
      },
      "execution_count": null,
      "outputs": [
        {
          "output_type": "execute_result",
          "data": {
            "text/plain": [
              "{1, 2, 3, 4, 5}"
            ]
          },
          "metadata": {},
          "execution_count": 14
        }
      ]
    },
    {
      "cell_type": "markdown",
      "source": [
        "## 12. Inverter uma lista\n",
        "Dada uma lista de números, inverta a ordem dos elementos."
      ],
      "metadata": {
        "id": "PbRT3i7LXQPa"
      }
    },
    {
      "cell_type": "code",
      "source": [
        "# Seu código aqui...\n",
        "lista7 = [1, 2, 3, 4, 5]\n",
        "lista7.reverse()\n",
        "print(lista7)"
      ],
      "metadata": {
        "id": "od73EknnXUuf",
        "colab": {
          "base_uri": "https://localhost:8080/"
        },
        "outputId": "20efc361-d343-4bc7-f5c1-91da5de4407c"
      },
      "execution_count": null,
      "outputs": [
        {
          "output_type": "stream",
          "name": "stdout",
          "text": [
            "[5, 4, 3, 2, 1]\n"
          ]
        }
      ]
    },
    {
      "cell_type": "markdown",
      "source": [
        "## 13. Intercalar Duas Listas\n",
        "Dadas duas listas de números, crie uma nova lista intercalando os elementos das duas listas."
      ],
      "metadata": {
        "id": "kFKBK6FrXa9Y"
      }
    },
    {
      "cell_type": "code",
      "source": [
        "# Seu código aqui...\n",
        "lista81 = [1, 3, 5]\n",
        "lista82 = [2, 4, 6]\n",
        "lista_intercalada = [item for pair in zip(lista81, lista82) for item in pair]"
      ],
      "metadata": {
        "id": "mBpRna3UXc-m"
      },
      "execution_count": null,
      "outputs": []
    },
    {
      "cell_type": "code",
      "source": [
        "lista_intercalada"
      ],
      "metadata": {
        "colab": {
          "base_uri": "https://localhost:8080/"
        },
        "id": "ckUVlLJyMS34",
        "outputId": "ae34a56b-c2de-4575-8c48-c950c1e837c3"
      },
      "execution_count": null,
      "outputs": [
        {
          "output_type": "execute_result",
          "data": {
            "text/plain": [
              "[1, 2, 3, 4, 5, 6]"
            ]
          },
          "metadata": {},
          "execution_count": 3
        }
      ]
    },
    {
      "cell_type": "markdown",
      "source": [
        "## 14. Somar Elementos Correspondentes de Duas Listas\n",
        "Dadas duas listas de números de mesmo tamanho, crie uma nova lista com a soma dos elementos correspondentes."
      ],
      "metadata": {
        "id": "PQZ7xQL4Xied"
      }
    },
    {
      "cell_type": "code",
      "source": [
        "# Seu código aqui...\n",
        "lista91 = [1, 2, 3]\n",
        "lista92 = [4, 5, 6]\n",
        "soma_listas = [x + y for x, y in zip(lista91, lista92)]\n",
        "\n",
        "print(soma_listas)"
      ],
      "metadata": {
        "id": "P82ap3XgXkSy",
        "colab": {
          "base_uri": "https://localhost:8080/"
        },
        "outputId": "28096b4b-14db-4fd8-ed47-982401430a71"
      },
      "execution_count": null,
      "outputs": [
        {
          "output_type": "stream",
          "name": "stdout",
          "text": [
            "[5, 7, 9]\n"
          ]
        }
      ]
    },
    {
      "cell_type": "markdown",
      "source": [
        "## 15. Mover Zeros para o Fim\n",
        "Dada uma lista de números, mova todos os zeros para o final da lista."
      ],
      "metadata": {
        "id": "Qpicp4bIXmn9"
      }
    },
    {
      "cell_type": "code",
      "source": [
        "# Seu código aqui...\n",
        "lista = [0, 1, 0, 3, 12]\n",
        "sem_zeros = [num for num in lista if num != 0]\n",
        "quantidade_zeros = lista.count(0)\n",
        "lista_final = sem_zeros + [0] * quantidade_zeros\n",
        "\n",
        "print(lista_final)"
      ],
      "metadata": {
        "id": "1lhGvG_sXqU1",
        "colab": {
          "base_uri": "https://localhost:8080/"
        },
        "outputId": "7b57b41e-7ad2-48c8-abcd-92f14824f5df"
      },
      "execution_count": null,
      "outputs": [
        {
          "output_type": "stream",
          "name": "stdout",
          "text": [
            "[1, 3, 12, 0, 0]\n"
          ]
        }
      ]
    },
    {
      "cell_type": "markdown",
      "source": [
        "# **CÓPIA DE EXERCÍCIOS JUNTOS**"
      ],
      "metadata": {
        "id": "VIdtxf17iza4"
      }
    },
    {
      "cell_type": "markdown",
      "source": [
        "Lista de Exercícios unindo tudo que foi ensinado até o momento:\n",
        "\n",
        "\n",
        "*   Condicionais\n",
        "*   Laços de Reptição\n",
        "*   Listas\n",
        "*   Tuplas\n",
        "*   Dicionários\n",
        "*   Manipulação de Strings\n",
        "\n",
        "\n",
        "\n",
        "\n",
        "\n"
      ],
      "metadata": {
        "id": "JsFcwNObBRcd"
      }
    },
    {
      "cell_type": "markdown",
      "source": [
        "# Tuplas - Acesso e Desempacotamento\n",
        "\n",
        "1) Crie uma tupla contendo três tipos diferentes de dados: um número, uma string e uma lista. Use um laço de repetição para acessar e imprimir cada item da tupla. Além disso, dentro do laço, acesse e imprima o segundo item da lista que está dentro da tupla."
      ],
      "metadata": {
        "id": "HM91bKpkBqGI"
      }
    },
    {
      "cell_type": "code",
      "source": [
        "dados = (24, \"Cíntia\",[1,2,3])\n",
        "\n",
        "for i in dados:\n",
        "  print(i)"
      ],
      "metadata": {
        "colab": {
          "base_uri": "https://localhost:8080/"
        },
        "id": "sCbCOqPVYeRv",
        "outputId": "1562f547-2765-4a1e-dc63-72c47c44eca5"
      },
      "execution_count": null,
      "outputs": [
        {
          "output_type": "stream",
          "name": "stdout",
          "text": [
            "24\n",
            "Cíntia\n",
            "[1, 2, 3]\n"
          ]
        }
      ]
    },
    {
      "cell_type": "code",
      "source": [],
      "metadata": {
        "colab": {
          "base_uri": "https://localhost:8080/"
        },
        "id": "pZ8TJ7EFYsjg",
        "outputId": "421ac61c-a610-4c30-e322-382b944de8df"
      },
      "execution_count": null,
      "outputs": [
        {
          "output_type": "execute_result",
          "data": {
            "text/plain": [
              "tuple"
            ]
          },
          "metadata": {},
          "execution_count": 2
        }
      ]
    },
    {
      "cell_type": "markdown",
      "source": [
        "# Dicionários - Criação e Acesso\n",
        "## Cadastro de Pessoas e Análise de Alturas\n",
        "2) Solicite ao usuário para inserir o nome e a altura de várias pessoas. Preencha um dicionário com essas informações e depois encontre e imprima o nome e a altura da pessoa mais alta e da mais baixa."
      ],
      "metadata": {
        "id": "6vEHxGtjBxMi"
      }
    },
    {
      "cell_type": "code",
      "source": [
        "pessoas = {\n",
        "    \"Murilo\": 1.50,\n",
        "    \"Vinicius\": 2.05,\n",
        "    \"Leonardo\": 1.40\n",
        "}\n",
        "pessoa_mais_alta = max(pessoas, key=pessoas.get)\n",
        "pessoa_mais_baixa = min(pessoas, key=pessoas.get)\n",
        "\n",
        "print(f'A pessoa mais alta é {pessoa_mais_alta} com {pessoas[pessoa_mais_alta]:.2f} metros.')\n",
        "print(f'A pessoa mais baixa é {pessoa_mais_baixa} com {pessoas[pessoa_mais_baixa]:.2f} metros.')"
      ],
      "metadata": {
        "id": "MpJYauvTZR69",
        "colab": {
          "base_uri": "https://localhost:8080/"
        },
        "outputId": "2856fa05-c45f-46e1-aaf0-b4d6bc5f8875"
      },
      "execution_count": null,
      "outputs": [
        {
          "output_type": "stream",
          "name": "stdout",
          "text": [
            "A pessoa mais alta é Vinicius com 2.05 metros.\n",
            "A pessoa mais baixa é Leonardo com 1.40 metros.\n"
          ]
        }
      ]
    },
    {
      "cell_type": "markdown",
      "source": [
        "# Lista, laços e Condicionais\n",
        "3) Descrição: Crie uma lista com cinco números inteiros. Use um laço de repetição e uma condicional para imprimir apenas os números que são múltiplos de 3."
      ],
      "metadata": {
        "id": "FytD4QZyELAt"
      }
    },
    {
      "cell_type": "code",
      "source": [
        "numeros = [10, 15, 22, 9, 33]\n",
        "\n",
        "for numero in numeros:\n",
        "    if numero % 3 == 0:\n",
        "        print(numero)"
      ],
      "metadata": {
        "colab": {
          "base_uri": "https://localhost:8080/"
        },
        "id": "GrZ6M55oG-i5",
        "outputId": "b6ff7260-a47e-4077-b550-bbde4bd8ae40"
      },
      "execution_count": null,
      "outputs": [
        {
          "output_type": "stream",
          "name": "stdout",
          "text": [
            "15\n",
            "9\n",
            "33\n"
          ]
        }
      ]
    },
    {
      "cell_type": "markdown",
      "source": [
        "# Manipulação de Strings e Condicionais\n",
        "4) Descrição: Crie uma string com uma frase. Use uma condicional para verificar se a frase contém a palavra \"Python\". Se sim, substitua a palavra \"Python\" por \"programação\" e imprima a nova frase."
      ],
      "metadata": {
        "id": "hwn3Fz8aEYSH"
      }
    },
    {
      "cell_type": "code",
      "source": [
        "frase = \"Eu faço códigos em Python\"\n",
        "if \"Python\" in frase:\n",
        "    nova_frase = frase.replace(\"Python\", \"programação\")\n",
        "    print(nova_frase)\n",
        "else:\n",
        "    print(\"A palavra 'Python' não foi encontrada na frase.\")"
      ],
      "metadata": {
        "colab": {
          "base_uri": "https://localhost:8080/"
        },
        "id": "XnrtcpwTHEkO",
        "outputId": "8cd93206-e1f0-4957-c889-815b77eef203"
      },
      "execution_count": null,
      "outputs": [
        {
          "output_type": "stream",
          "name": "stdout",
          "text": [
            "Eu faço códigos em programação\n"
          ]
        }
      ]
    },
    {
      "cell_type": "markdown",
      "source": [
        "# Simulação de Alfândega com Cadastro Dinâmico de Itens usando dicionário\n",
        "5) Simule uma situação de alfândega onde o funcionário cadastra itens novos encontrados na mala de uma pessoa que veio de uma viagem internacional. Após o cadastro de todos os itens, o programa imprime uma nota com todos os itens e seus preços, calcula o valor total e, se o valor total ultrapassar 500 dólares, calcula o valor de 60% a ser pago."
      ],
      "metadata": {
        "id": "hPP-JNTxEwFT"
      }
    },
    {
      "cell_type": "code",
      "source": [
        "# Função para cadastrar itens\n",
        "def cadastrar_itens():\n",
        "    itens = []\n",
        "\n",
        "    while True:\n",
        "        nome = input(\"Nome do item (ou 'sair' para finalizar): \")\n",
        "        if nome.lower() == 'sair':\n",
        "            break\n",
        "        preco = float(input(f\"Preço do item '{nome}': \"))\n",
        "        itens.append({\"nome\": nome, \"preco\": preco})\n",
        "\n",
        "    return itens\n",
        "\n",
        "# Função para calcular o valor total e gerar a nota\n",
        "def gerar_nota(itens):\n",
        "    print(\"\\n--- Nota Fiscal ---\")\n",
        "    valor_total = 0\n",
        "    for item in itens:\n",
        "        print(f\"{item['nome']} - ${item['preco']:.2f}\")\n",
        "        valor_total += item['preco']\n",
        "\n",
        "    print(f\"\\nValor total: ${valor_total:.2f}\")\n",
        "    return valor_total\n",
        "\n",
        "# Função para calcular o imposto se o valor ultrapassar 500 dólares\n",
        "def calcular_imposto(valor_total):\n",
        "    limite_isencao = 500.00\n",
        "    if valor_total > limite_isencao:\n",
        "        excedente = valor_total - limite_isencao\n",
        "        imposto = excedente * 0.60\n",
        "        print(f\"\\nValor excedente: ${excedente:.2f}\")\n",
        "        print(f\"Imposto a ser pago (60%): ${imposto:.2f}\")\n",
        "    else:\n",
        "        print(\"\\nNenhum imposto a ser pago. Valor dentro do limite de isenção.\")\n",
        "\n",
        "# Programa principal\n",
        "def main():\n",
        "    print(\"### Cadastro de Itens na Alfândega ###\")\n",
        "    itens = cadastrar_itens()\n",
        "    valor_total = gerar_nota(itens)\n",
        "    calcular_imposto(valor_total)\n",
        "\n",
        "# Executa o programa\n",
        "if __name__ == \"__main__\":\n",
        "    main()\n"
      ],
      "metadata": {
        "id": "DtYsK70LHHS8",
        "colab": {
          "base_uri": "https://localhost:8080/"
        },
        "outputId": "004a61f5-d602-4e0f-85e4-d6f3e45a1d04"
      },
      "execution_count": null,
      "outputs": [
        {
          "output_type": "stream",
          "name": "stdout",
          "text": [
            "### Cadastro de Itens na Alfândega ###\n",
            "Nome do item (ou 'sair' para finalizar): sair\n",
            "\n",
            "--- Nota Fiscal ---\n",
            "\n",
            "Valor total: $0.00\n",
            "\n",
            "Nenhum imposto a ser pago. Valor dentro do limite de isenção.\n"
          ]
        }
      ]
    },
    {
      "cell_type": "markdown",
      "source": [
        "# Identificação de Palavras Negativas em um Texto\n",
        "6) Você vai criar um programa em Python para analisar um texto e identificar palavras que expressam pensamentos negativos. Para isso, você usará uma lista de palavras negativas fornecida e verificará quais dessas palavras estão presentes no texto fornecido pelo usuário. Exemplo de palavras negativas, acrescente mais na lista: # Lista de palavras negativas palavras_negativas = ['triste', 'deprimido', 'ansioso', 'desapontado', 'frustrado']"
      ],
      "metadata": {
        "id": "OH8D047zVsp-"
      }
    },
    {
      "cell_type": "code",
      "source": [
        "palavras_negativas = ['triste', 'deprimido', 'ansioso', 'desapontado', 'frustrado']\n",
        "\n",
        "texto = input(\"Digite um texto para análise: \")\n",
        "\n",
        "# Convertendo o texto para minúsculas e dividindo-o em palavras\n",
        "palavras_texto = texto.lower().split()\n",
        "\n",
        "# Verificando se alguma palavra negativa está presente no texto\n",
        "palavras_encontradas = [palavra for palavra in palavras_negativas if palavra in palavras_texto]\n",
        "\n",
        "# Imprimindo as palavras negativas encontradas, se houver\n",
        "if palavras_encontradas:\n",
        "    print(\"Palavras negativas encontradas no texto:\", ', '.join(palavras_encontradas))\n",
        "else:\n",
        "    print(\"Nenhuma palavra negativa foi encontrada no texto.\")"
      ],
      "metadata": {
        "id": "xDSrYWf_Vr8G",
        "colab": {
          "base_uri": "https://localhost:8080/"
        },
        "outputId": "883ce6d4-907c-4233-fab5-f3ff5d51ea6f"
      },
      "execution_count": null,
      "outputs": [
        {
          "output_type": "stream",
          "name": "stdout",
          "text": [
            "Digite um texto para análise: Estou muito triste e ansioso por causa da prova\n",
            "Palavras negativas encontradas no texto: triste, ansioso\n"
          ]
        }
      ]
    }
  ]
}