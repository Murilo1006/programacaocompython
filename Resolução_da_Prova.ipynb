{
  "cells": [
    {
      "cell_type": "markdown",
      "metadata": {
        "id": "view-in-github",
        "colab_type": "text"
      },
      "source": [
        "<a href=\"https://colab.research.google.com/github/Murilo1006/programacaocompython/blob/main/Resolu%C3%A7%C3%A3o_da_Prova.ipynb\" target=\"_parent\"><img src=\"https://colab.research.google.com/assets/colab-badge.svg\" alt=\"Open In Colab\"/></a>"
      ]
    },
    {
      "cell_type": "markdown",
      "metadata": {
        "id": "pkIChmnRVBVD"
      },
      "source": [
        "1) Crie um jogo onde o usuário deve adivinhar um número secreto entre 1 e 100. O programa deve fornecer dicas sobre se o palpite do usuário está muito alto ou muito baixo. O jogo deve continuar até que o usuário adivinhe corretamente ou escolha sair."
      ]
    },
    {
      "cell_type": "code",
      "execution_count": 6,
      "metadata": {
        "colab": {
          "base_uri": "https://localhost:8080/",
          "height": 245
        },
        "id": "XYbzmcPuVEM8",
        "outputId": "60b5344b-2874-4efc-cc50-5e0bb90e1ebb"
      },
      "outputs": [
        {
          "output_type": "stream",
          "name": "stdout",
          "text": [
            "Adivinhe o número secreto entre 1 a 100: 30\n",
            "O palpite esta maior\n"
          ]
        },
        {
          "output_type": "error",
          "ename": "NameError",
          "evalue": "name 'tentativa' is not defined",
          "traceback": [
            "\u001b[0;31m---------------------------------------------------------------------------\u001b[0m",
            "\u001b[0;31mNameError\u001b[0m                                 Traceback (most recent call last)",
            "\u001b[0;32m<ipython-input-6-31aba9d08933>\u001b[0m in \u001b[0;36m<cell line: 8>\u001b[0;34m()\u001b[0m\n\u001b[1;32m     15\u001b[0m       \u001b[0;32mif\u001b[0m \u001b[0mpalpite\u001b[0m \u001b[0;34m>\u001b[0m \u001b[0msecreto\u001b[0m\u001b[0;34m:\u001b[0m\u001b[0;34m\u001b[0m\u001b[0;34m\u001b[0m\u001b[0m\n\u001b[1;32m     16\u001b[0m         \u001b[0mprint\u001b[0m\u001b[0;34m(\u001b[0m\u001b[0;34m\"O palpite esta maior\"\u001b[0m\u001b[0;34m)\u001b[0m\u001b[0;34m\u001b[0m\u001b[0;34m\u001b[0m\u001b[0m\n\u001b[0;32m---> 17\u001b[0;31m       \u001b[0mtentativa\u001b[0m \u001b[0;34m=\u001b[0m \u001b[0mtentativa\u001b[0m \u001b[0;34m+\u001b[0m \u001b[0;36m1\u001b[0m\u001b[0;34m\u001b[0m\u001b[0;34m\u001b[0m\u001b[0m\n\u001b[0m\u001b[1;32m     18\u001b[0m \u001b[0;34m\u001b[0m\u001b[0m\n\u001b[1;32m     19\u001b[0m       \u001b[0;32mif\u001b[0m \u001b[0mcalc\u001b[0m \u001b[0;34m<=\u001b[0m \u001b[0;36m5\u001b[0m \u001b[0;32mand\u001b[0m \u001b[0mcalc\u001b[0m \u001b[0;34m>=\u001b[0m \u001b[0;36m5\u001b[0m\u001b[0;34m:\u001b[0m\u001b[0;34m\u001b[0m\u001b[0;34m\u001b[0m\u001b[0m\n",
            "\u001b[0;31mNameError\u001b[0m: name 'tentativa' is not defined"
          ]
        }
      ],
      "source": [
        "import random\n",
        "#secreto = 16\n",
        "secreto = random.randint(1, 100)\n",
        "#print(secreto)\n",
        "palpite = 0\n",
        "tentativas = 1\n",
        "\n",
        "while palpite != secreto:\n",
        "      palpite = int(input(\"Adivinhe o número secreto entre 1 a 100: \"))\n",
        "      if secreto <= 0 or secreto > 100:\n",
        "       print(\"Esse número não esta na lista\")\n",
        "       break\n",
        "\n",
        "      calc = palpite - secreto\n",
        "      if palpite > secreto:\n",
        "        print(\"O palpite esta maior\")\n",
        "      tentativa = tentativa + 1\n",
        "\n",
        "      if calc <= 5 and calc >= 5:\n",
        "        print(\"Está quente\")\n",
        "      elif calc >= 10 and calc <=10:\n",
        "        print(\"Está morno\")\n",
        "      elif calc >= 20 and calc <=20:\n",
        "        print(\"Está frio\")\n",
        "      elif calc >= 30 and calc <= 30:\n",
        "        print(\"Está congelando\")\n",
        "\n",
        "\n",
        "      if palpite < secreto:\n",
        "        print(\"O palpite esta menor\")\n",
        "        calc = secreto - palpite\n",
        "        tentativa = tentativa + 1\n",
        "\n",
        "      # if calc <= 5:\n",
        "      #   print(\"Está quente\")\n",
        "      # elif calc > 5 and calc <=10:\n",
        "      #   print(\"Está morno\")\n",
        "      # elif calc > 10 and calc <=20:\n",
        "      #   print(\"Está frio\")\n",
        "      # elif calc > 20:\n",
        "      #   print(\"Está congelando\")\n",
        "\n",
        "      else:\n",
        "        print(\"Você acertou, com o número de tentativas igual a\", tentativa)\n",
        "        break"
      ]
    },
    {
      "cell_type": "markdown",
      "metadata": {
        "id": "72mVR6LoVN4e"
      },
      "source": [
        "2)Crie um programa que simula um caixa de supermercado. O usuário deve inserir o preço de cada item comprado e, após inserir todos os itens, o programa deve calcular o total da compra e aplicar um desconto de 5%, se o valor for pago a vista, caso contrário cobrança normal. Execute o programa até o usuário disser que deseja continuar."
      ]
    },
    {
      "cell_type": "code",
      "execution_count": null,
      "metadata": {
        "id": "HuY-hWITVX6S"
      },
      "outputs": [],
      "source": [
        "total = 0\n",
        "desc = 0.05\n",
        "\n",
        "while True:\n",
        "    preco = float(input(\"Digite o preço do produto: \"))\n",
        "\n",
        "    total = total + preco\n",
        "\n",
        "    continuar = input(\"Deseja continuar? (Sim/Não): \").lower()\n",
        "\n",
        "    if continuar != \"sim\":\n",
        "        break\n",
        "\n",
        "pag = input(\"Qual a forma de pagamento? \")\n",
        "\n",
        "if pag == (\"Pagamento a vista\"):\n",
        "    desconto = total * desc\n",
        "    total = total - desconto\n",
        "    print(\"Desconto de 5% aplicado \")\n",
        "    print(\"O total da sua compra é:\", total)\n",
        "\n",
        "elif pag == (\"Pagamento parcelado\"):\n",
        "    print(\"O total da sua compra é:\", total)"
      ]
    }
  ],
  "metadata": {
    "colab": {
      "provenance": [],
      "authorship_tag": "ABX9TyPK+obCSbUFny+KHuRmWimd",
      "include_colab_link": true
    },
    "kernelspec": {
      "display_name": "Python 3",
      "name": "python3"
    },
    "language_info": {
      "name": "python"
    }
  },
  "nbformat": 4,
  "nbformat_minor": 0
}